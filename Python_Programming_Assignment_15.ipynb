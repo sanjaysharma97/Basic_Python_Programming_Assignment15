{
 "cells": [
  {
   "cell_type": "markdown",
   "id": "1aa056f4",
   "metadata": {},
   "source": [
    "# 1.Please write a program using generator to print the numbers which can be divisible by 5 and 7 between 0 and n in comma separated form while n is input by console.\n",
    "Example:\n",
    "If the following n is given as input to the program:\n",
    "100\n",
    "Then, the output of the program should be:\n",
    "0,35,70\n",
    "\n",
    "ANSWER- "
   ]
  },
  {
   "cell_type": "code",
   "execution_count": 5,
   "id": "54542810",
   "metadata": {},
   "outputs": [
    {
     "name": "stdout",
     "output_type": "stream",
     "text": [
      "enter a number200\n",
      "0,35,70,105,140,175\n"
     ]
    }
   ],
   "source": [
    "def div_by_5_and_7(n):\n",
    "    for i in range (n+1):\n",
    "        if i%5==0 and i%7==0:\n",
    "            yield i\n",
    "n=int(input(\"enter a number\"))\n",
    "r=div_by_5_and_7(n)\n",
    "print(\",\".join(str(i)for i in r))"
   ]
  },
  {
   "cell_type": "markdown",
   "id": "e42068e2",
   "metadata": {},
   "source": [
    "# 2.Please write a program using generator to print the even numbers between 0 and n in comma separated form while n is input by console.\n",
    "Example:\n",
    "If the following n is given as input to the program:\n",
    "10\n",
    "Then, the output of the program should be:\n",
    "0,2,4,6,8,10\n",
    "\n",
    "ANSWER-"
   ]
  },
  {
   "cell_type": "code",
   "execution_count": 14,
   "id": "d2459561",
   "metadata": {},
   "outputs": [
    {
     "name": "stdout",
     "output_type": "stream",
     "text": [
      "enter a number 30\n",
      "0,2,4,6,8,10,12,14,16,18,20,22,24,26,28,30\n"
     ]
    }
   ],
   "source": [
    "def even_num(n):\n",
    "    for i in range(0,n+1):\n",
    "        if i%2==0:\n",
    "            yield i\n",
    "n=int(input(\"enter a number \")) \n",
    "r=even_num(n)\n",
    "print(\",\".join(str(i)for i in r))\n",
    "            "
   ]
  },
  {
   "cell_type": "markdown",
   "id": "3fc9932b",
   "metadata": {},
   "source": [
    "# 3.The Fibonacci Sequence is computed based on the following formula:\n",
    "f(n)=0 if n=0\n",
    "f(n)=1 if n=1\n",
    "f(n)=f(n-1)+f(n-2) if n>1\n",
    "Please write a program using list comprehension to print the Fibonacci Sequence in comma\n",
    "separated form with a given n input by console.\n",
    "Example:\n",
    "If the following n is given as input to the program:\n",
    "7\n",
    "\n",
    "Then, the output of the program should be:\n",
    "0,1,1,2,3,5,8,13\n",
    "\n",
    "ANSWER-"
   ]
  },
  {
   "cell_type": "code",
   "execution_count": 13,
   "id": "61136c1c",
   "metadata": {},
   "outputs": [
    {
     "name": "stdout",
     "output_type": "stream",
     "text": [
      "Enter a number 14\n",
      "0, 1, 1, 2, 3, 5, 8, 13, 21, 34, 55, 89, 144, 233, 377\n"
     ]
    }
   ],
   "source": [
    "n=int(input(\"Enter a number \"))\n",
    "\n",
    "fibonacci = [0, 1]\n",
    "\n",
    "[fibonacci.append(fibonacci[-1] + fibonacci[-2]) for i in range(2, n+1)]\n",
    "print(*fibonacci, sep=', ')\n"
   ]
  },
  {
   "cell_type": "markdown",
   "id": "eda3ec0c",
   "metadata": {},
   "source": [
    "# 4.Assuming that we have some email addresses in the \"username@companyname.com\" format,please write program to print the user name of a given email address. Both user names and company names are composed of letters only.\n",
    "Example:\n",
    "If the following email address is given as input to the program:\n",
    "john@google.com\n",
    "Then, the output of the program should be:\n",
    "john\n",
    "\n",
    "ANSWER-"
   ]
  },
  {
   "cell_type": "code",
   "execution_count": 17,
   "id": "896cda17",
   "metadata": {},
   "outputs": [
    {
     "name": "stdout",
     "output_type": "stream",
     "text": [
      "Enter an email address: sanjay@google.com\n",
      "sanjay\n"
     ]
    }
   ],
   "source": [
    "email = input(\"Enter an email address: \")\n",
    "username = email.split('@')[0]\n",
    "print(username)\n"
   ]
  },
  {
   "cell_type": "markdown",
   "id": "2e2e7166",
   "metadata": {},
   "source": [
    "# 5.Define a class named Shape and its subclass Square. The Square class has an init function which takes a length as argument. Both classes have a area function which can print the area of the shape where Shape's area is 0 by default.\n",
    "\n",
    "ANSWER-"
   ]
  },
  {
   "cell_type": "code",
   "execution_count": 18,
   "id": "22318a41",
   "metadata": {},
   "outputs": [],
   "source": [
    "class Shape:\n",
    "    def area(self):\n",
    "        print(\"Area of the shape is 0 by default.\")\n",
    "\n",
    "class Square(Shape):\n",
    "    def __init__(self, length):\n",
    "        self.length = length\n",
    "\n",
    "    def area(self):\n",
    "        print(\"Area of the square is\", self.length ** 2)\n"
   ]
  },
  {
   "cell_type": "code",
   "execution_count": 20,
   "id": "8225e756",
   "metadata": {},
   "outputs": [
    {
     "name": "stdout",
     "output_type": "stream",
     "text": [
      "Area of the square is 25\n"
     ]
    }
   ],
   "source": [
    "s=Square(5)\n",
    "s.area()"
   ]
  },
  {
   "cell_type": "code",
   "execution_count": 21,
   "id": "156ac073",
   "metadata": {},
   "outputs": [
    {
     "name": "stdout",
     "output_type": "stream",
     "text": [
      "Area of the shape is 0 by default.\n"
     ]
    }
   ],
   "source": [
    "shape=Shape()\n",
    "shape.area()"
   ]
  },
  {
   "cell_type": "code",
   "execution_count": null,
   "id": "dbf85f0a",
   "metadata": {},
   "outputs": [],
   "source": []
  }
 ],
 "metadata": {
  "kernelspec": {
   "display_name": "Python 3 (ipykernel)",
   "language": "python",
   "name": "python3"
  },
  "language_info": {
   "codemirror_mode": {
    "name": "ipython",
    "version": 3
   },
   "file_extension": ".py",
   "mimetype": "text/x-python",
   "name": "python",
   "nbconvert_exporter": "python",
   "pygments_lexer": "ipython3",
   "version": "3.9.12"
  }
 },
 "nbformat": 4,
 "nbformat_minor": 5
}
